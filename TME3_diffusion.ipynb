{
 "cells": [
  {
   "cell_type": "code",
   "execution_count": 8,
   "metadata": {
    "collapsed": true
   },
   "outputs": [],
   "source": [
    "import numpy as np\n",
    "from collections import defaultdict"
   ]
  },
  {
   "cell_type": "code",
   "execution_count": 9,
   "metadata": {
    "collapsed": false
   },
   "outputs": [
    {
     "data": {
      "text/plain": [
       "8"
      ]
     },
     "execution_count": 9,
     "metadata": {},
     "output_type": "execute_result"
    }
   ],
   "source": [
    "def loadEpisodes():\n",
    "    f = open(\"cascades_train.txt\",'r')\n",
    "    episodes = []\n",
    "    for episode in f.readlines():\n",
    "        episode = episode[:-2]   # pour enlever le dernier ;       \n",
    "        episode = np.array([epi.split(\":\") for epi in episode.split(\";\")], float)\n",
    "        episode = np.array(episode, int)\n",
    "        episodes.append(episode[episode[:,1].argsort()])\n",
    "    return np.array(episodes)\n",
    "\n",
    "\n",
    "episodes = loadEpisodes()\n",
    "min([max(epi[:,0]) for epi in episodes])"
   ]
  },
  {
   "cell_type": "code",
   "execution_count": 12,
   "metadata": {
    "collapsed": false
   },
   "outputs": [
    {
     "name": "stderr",
     "output_type": "stream",
     "text": [
      "/usr/local/lib/python3.4/dist-packages/ipykernel_launcher.py:129: RuntimeWarning: invalid value encountered in double_scalars\n"
     ]
    },
    {
     "name": "stdout",
     "output_type": "stream",
     "text": [
      "[        nan  0.02104416  0.01191484  0.09353492  0.09246978  0.0200761\n",
      "  0.00261204  0.02463025  0.1597674   0.05262528  0.09887367  0.00636031\n",
      "  0.08748438  0.035782    0.01165784  0.02407588  0.1232488   0.19499995\n",
      "  0.0910383   0.05656526  0.01808362  0.08804698  0.08396841  0.00366911\n",
      "  0.11498294  0.09874148  0.11602122  0.05088655  0.10372771  0.04267662\n",
      "  0.07438718  0.15779429  0.02994124  0.10567839  0.15207735  0.15237776\n",
      "  0.03509199  0.03793102  0.10945335  0.1077566   0.02294521  0.0728482\n",
      "  0.03107829  0.14800505  0.07013512  0.04710161  0.10441058  0.01324676\n",
      "  0.01385853  0.08908781  0.02364296  0.10812637  0.13059409  0.01575171\n",
      "  0.04111223  0.03563394  0.08796976  0.13566252  0.16455774  0.09588794\n",
      "  0.10897416  0.15236707  0.01106351  0.1484472   0.01500584  0.08335317\n",
      "  0.07831253  0.07055524  0.12341471  0.01033143  0.1245543   0.08757027\n",
      "  0.0824696   0.00591157  0.03767329  0.00318626  0.02128463  0.06743075\n",
      "  0.04505193  0.03585159  0.09915196  0.10774228  0.04295335  0.08605715\n",
      "  0.08041385  0.03573181  0.08946163  0.07824017  0.18106854  0.08506233\n",
      "  0.12477505  0.18826416  0.02527906  0.00595866  0.07964793  0.10920284\n",
      "  0.12681517  0.10126777  0.09234169  0.09423102]\n"
     ]
    }
   ],
   "source": [
    "class IC():\n",
    "\n",
    "    def __init__(self, episodes, nbIter=1):\n",
    "        self.dplusDico = {}\n",
    "        self.dmoinsDico = np.zeros((100,100))\n",
    "        self.theta = np.zeros((100,100))\n",
    "        self.successeur = defaultdict(dict)\n",
    "        self.predecesseur = defaultdict(dict)\n",
    "        self.nbIter = nbIter\n",
    "        self.episodes = episodes\n",
    "        \n",
    "    def random_theta(self):\n",
    "        for i in range(0,100):\n",
    "            for j in range(0,100):\n",
    "                self.theta[i][j] = np.random.random() \n",
    "    \n",
    "    def createGraph(self):\n",
    "        for episode in self.episodes:\n",
    "            liste_successeurs = [episode[episode[:,1] > episode[i,1]][:,0] for i in range(len(episode))]\n",
    "            for i,successeur in enumerate(liste_successeurs):\n",
    "                for s in successeur:\n",
    "                    proba = np.random.random() \n",
    "                    self.successeur[episode[i,0]][int(s)] = proba\n",
    "                    self.predecesseur[int(s)][episode[i,0]] = proba\n",
    "    \n",
    "    def init_dicoDplus(self):\n",
    "        for i in range(0,100):\n",
    "            for j in range(0,100):\n",
    "                self.dplusDico[i,j] = []\n",
    "                \n",
    "    \n",
    "    def dplus(self):\n",
    "        \n",
    "        self.init_dicoDplus()\n",
    "        \n",
    "        for d,episode in enumerate(self.episodes):\n",
    "            for i in range(0,len(episode)):\n",
    "                for j in range(0,len(episode)):\n",
    "                    if (episode[i][0] == episode[j][0]):\n",
    "                        continue;\n",
    "                    elif (episode[j][0] in episode and episode[i][1] < episode[j][1]):\n",
    "                        self.dplusDico[episode[i][0],episode[j][0]].append(d)     \n",
    "          \n",
    "    \n",
    "    def dmoins(self):\n",
    "        \n",
    "        for episode in self.episodes:\n",
    "            for i in range(0,len(episode)):\n",
    "                for j in range(0,100):\n",
    "                    if (j not in episode[:,0]):\n",
    "                        self.dmoinsDico[episode[i][0]][j] += 1\n",
    "    \n",
    "   \n",
    "\n",
    "    def pdtu(self):\n",
    "        \n",
    "        p = {}\n",
    "            \n",
    "        for d,episode in enumerate(self.episodes):\n",
    "                \n",
    "            t = np.unique(episode[:,1])   #on récupère tous les temps distincts\n",
    "                \n",
    "            users = episode[:,0]  #on récupère tous les utilisateurs\n",
    "                \n",
    "            p[d] = np.ones(100) \n",
    "                    \n",
    "            for i in range(1,len(t)):\n",
    "                for u,user in enumerate(users):\n",
    "                    hasPred = False\n",
    "                    pdtu = 1.\n",
    "                    userV = episode[episode[:,1] < t[i]][:,0]  \n",
    "                        \n",
    "                    for v in userV:\n",
    "                        if (v in self.predecesseur[user]):\n",
    "                            pdtu = pdtu * (1 - self.theta[v][user])    \n",
    "                            hasPred = True\n",
    "                    if hasPred:\n",
    "                        p[d][u] = 1-pdtu \n",
    "    \n",
    "        return p\n",
    "    \"\"\"\n",
    "    def pdtu(self):\n",
    "        \n",
    "        p = {}\n",
    "            \n",
    "        for d,episode in enumerate(self.episodes):\n",
    "                \n",
    "            t = np.unique(episode[:,1])   #on récupère tous les temps distincts\n",
    "                \n",
    "            users = episode[:,0]  #on récupère tous les utilisateurs\n",
    "                \n",
    "            p[d] = np.zeros((len(t),len(users)))  #on initialise le dico p à la taille de t et users pour chaque episode\n",
    "            p[d][0][episode[:,1] == t[0]] = 1  #on initialise pour le 1er temps, la proba à 1\n",
    "                    \n",
    "            for i in range(1,len(t)):\n",
    "                for u,user in enumerate(users):\n",
    "                    hasPred = False\n",
    "                    pdtu = 1.\n",
    "                    userV = episode[episode[:,1] < t[i]][:,0]  #on récupère les users qui ont un temps inferieur au temps courant\n",
    "                        \n",
    "                    for v in userV:\n",
    "                        if (v in self.predecesseur[user]):\n",
    "                            pdtu = pdtu * (1 - self.theta[v][user])    \n",
    "                            hasPred = True\n",
    "                    if hasPred:\n",
    "                        p[d][i,u] = 1-pdtu \n",
    "                    else:\n",
    "                        p[d][i,u] = 1\n",
    "    \n",
    "        return p\n",
    "    \"\"\"\n",
    "    \n",
    "    def fit(self):\n",
    "        \n",
    "        self.createGraph()\n",
    "        self.dplus()\n",
    "        self.dmoins()\n",
    "        self.random_theta()\n",
    "        \n",
    "        for i in range(0,self.nbIter):\n",
    "            \n",
    "            p = self.pdtu()\n",
    "            \n",
    "            for u in range(0,100):\n",
    "                for v in range(0,100):\n",
    "                    sommeOP = 0\n",
    "                    for d in self.dplusDico[u,v]:\n",
    "                        sommeOP += self.theta[u][v]/p[d][v]\n",
    "                    self.theta[u][v] = sommeOP/(len(self.dplusDico[u,v]) + self.dmoinsDico[u][v])\n",
    "    \n",
    "    \n",
    "ic = IC(episodes)\n",
    "ic.fit()\n",
    "\n",
    "#ic.dplus()\n",
    "#ic.dmoins()\n",
    "        \n",
    "\n",
    "print (ic.theta[0])"
   ]
  },
  {
   "cell_type": "code",
   "execution_count": null,
   "metadata": {
    "collapsed": true
   },
   "outputs": [],
   "source": []
  }
 ],
 "metadata": {
  "kernelspec": {
   "display_name": "Python 3",
   "language": "python",
   "name": "python3"
  },
  "language_info": {
   "codemirror_mode": {
    "name": "ipython",
    "version": 3
   },
   "file_extension": ".py",
   "mimetype": "text/x-python",
   "name": "python",
   "nbconvert_exporter": "python",
   "pygments_lexer": "ipython3",
   "version": "3.4.2"
  }
 },
 "nbformat": 4,
 "nbformat_minor": 2
}
